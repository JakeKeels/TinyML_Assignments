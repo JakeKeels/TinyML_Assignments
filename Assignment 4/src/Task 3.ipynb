{
 "cells": [
  {
   "cell_type": "code",
   "execution_count": 6,
   "id": "19550529",
   "metadata": {},
   "outputs": [],
   "source": [
    "from tensorflow.keras.models import Sequential\n",
    "from tensorflow.keras.layers import Dense, Dropout\n",
    "from tensorflow.keras.utils import plot_model\n",
    "import keras\n",
    "import tensorflow as tf\n",
    "from skimage import io\n",
    "import numpy as np\n",
    "import os\n",
    "import csv\n",
    "import seaborn as sns\n",
    "from sklearn.metrics import confusion_matrix\n",
    "from sklearn.linear_model import LogisticRegression\n",
    "from sklearn.model_selection import train_test_split\n",
    "from sklearn import metrics\n",
    "from sklearn.linear_model import LogisticRegression\n",
    "from sklearn.tree import DecisionTreeClassifier\n",
    "from sklearn.ensemble import RandomForestClassifier\n",
    "from sklearn.metrics import plot_confusion_matrix\n",
    "import matplotlib.pyplot as plt\n",
    "from keras.callbacks import LearningRateScheduler"
   ]
  },
  {
   "cell_type": "code",
   "execution_count": 3,
   "id": "61ff93f5",
   "metadata": {
    "scrolled": false
   },
   "outputs": [
    {
     "name": "stdout",
     "output_type": "stream",
     "text": [
      "(2572, 76800)\n",
      "apples: 858 bananas: 859 oranges 855 \n"
     ]
    }
   ],
   "source": [
    "folder = '/Users/hazel/Downloads/Image'#/Jake Keels - Jake_Keels\n",
    "images = [os.path.join(root, filename)\n",
    "          for root, dirs, files in os.walk(folder)\n",
    "          for filename in files\n",
    "          if filename.lower().endswith('.jpg')]\n",
    "y_img = []\n",
    "ic = []\n",
    "ban = 0\n",
    "ora = 0\n",
    "app = 0\n",
    "for img in images:\n",
    "    if np.size(io.imread(img).flatten()) == 230400:\n",
    "        ic.append(io.imread(img)[:,:,0].flatten())\n",
    "        arr = img.split('/')\n",
    "        arr = arr[np.size(arr)-1].split('\\\\')\n",
    "        if 'ban' in arr[np.size(arr)-2].lower():\n",
    "            y_img.append(0)\n",
    "            ban += 1\n",
    "        elif 'ora' in arr[np.size(arr)-2].lower():\n",
    "            y_img.append(1)\n",
    "            ora += 1\n",
    "        elif 'app' in arr[np.size(arr)-2].lower():\n",
    "            y_img.append(2)\n",
    "            app += 1\n",
    "print(np.shape(ic))\n",
    "print('apples: {} bananas: {} oranges {} '.format(app,ban,ora))"
   ]
  },
  {
   "cell_type": "code",
   "execution_count": 90,
   "id": "a7434c55",
   "metadata": {},
   "outputs": [],
   "source": [
    "def testPredict(X_train, X_test, y_train, y_test,model):\n",
    "    model.fit(X_train,y_train)\n",
    "    ypred = model.predict(X_test)\n",
    "    plot_confusion_matrix(model, X_test, y_test, cmap='RdPu')\n",
    "    print(metrics.classification_report(y_test, ypred))\n",
    "    \n",
    "def modelLearning(X_train, X_test, y_train, y_test):\n",
    "    model = LogisticRegression()\n",
    "    print('Logistic model')\n",
    "    testPredict(X_train, X_test, y_train, y_test,model)\n",
    "    model = DecisionTreeClassifier()\n",
    "    print('Decision Tree model')\n",
    "    testPredict(X_train, X_test, y_train, y_test,model)\n",
    "    model = RandomForestClassifier()\n",
    "    print('Random Forest model')\n",
    "    testPredict(X_train, X_test, y_train, y_test,model)\n",
    "    \n",
    "EPOCHS = 500\n",
    "def decay_schedule(epoch, lr):\n",
    "    # decay by 0.1 every 5 epochs; use `% 1` to decay after each epoch\n",
    "    if (epoch % 5 == 0) and (epoch != 0):\n",
    "        lr = lr * 0.9\n",
    "    return lr\n",
    "\n",
    "def mlpModel(x_train, x_test, y_train, y_test, x_validate, y_validate):\n",
    "    model = keras.models.Sequential()\n",
    "    model.add(Dense(8, input_shape=np.shape(x_test[0]),activation='selu'))\n",
    "    model.add(Dense(128,activation='selu'))\n",
    "    #softplus ,selu, relu\n",
    "    model.add(Dense(3, activation='sigmoid'))\n",
    "    \n",
    "    lr_scheduler = LearningRateScheduler(decay_schedule)\n",
    "\n",
    "    callback = tf.keras.callbacks.EarlyStopping(monitor='val_accuracy', patience=int(EPOCHS/5))\n",
    "    \n",
    "    model.compile(optimizer=tf.keras.optimizers.Adam(learning_rate=0.00000001),loss='sparse_categorical_crossentropy',\n",
    "                  metrics=['accuracy'])#'mae',\n",
    "    return model.fit(np.array(x_train),\n",
    "                     np.array(y_train),\n",
    "                     epochs=EPOCHS, \n",
    "                     verbose = True, \n",
    "                     batch_size = int(len(ic)*8/125),\n",
    "                     callbacks=[callback], \n",
    "                     validation_data=(x_validate, y_validate)),model\n",
    "    \n",
    "def mlpStats(history,model):\n",
    "    train_loss = history.history['loss']\n",
    "    val_loss = history.history['val_loss']\n",
    "    epochs = range(1, len(train_loss) + 1)\n",
    "    plt.plot(epochs[1:], train_loss[1:], 'g.', label='Training loss')\n",
    "    plt.plot(epochs[1:], val_loss[1:], 'b', label='Validation loss')\n",
    "    plt.title('Training and validation loss')\n",
    "    plt.xlabel('Epochs')\n",
    "    plt.ylabel('Loss')\n",
    "    plt.legend()\n",
    "    plt.show()\n",
    "    y_pred = model.predict(x_test)\n",
    "    y_pred_bool = np.argmax(y_pred, axis=1)\n",
    "    print(metrics.classification_report(y_test, y_pred_bool))\n",
    "    cm = metrics.confusion_matrix(y_test, y_pred_bool) \n",
    "    sns.heatmap(cm, annot=True,cmap='icefire')"
   ]
  },
  {
   "cell_type": "code",
   "execution_count": 82,
   "id": "dfcdb93a",
   "metadata": {},
   "outputs": [],
   "source": [
    "x_train, x_test, y_train, y_test = train_test_split(ic, y_img,test_size=.2)\n",
    "TEST_SPLIT = len(x_test) * .5\n",
    "# Use np.split to chop our data into three parts.\n",
    "# The second argument to np.split is an array of indices where the data will be\n",
    "# split. We provide two indices, so the data will be divided into three chunks.\n",
    "x_test, x_validate = np.split(x_test, [int(TEST_SPLIT)])\n",
    "y_test, y_validate = np.split(y_test, [int(TEST_SPLIT)])"
   ]
  },
  {
   "cell_type": "code",
   "execution_count": null,
   "id": "76892076",
   "metadata": {
    "scrolled": true
   },
   "outputs": [
    {
     "name": "stdout",
     "output_type": "stream",
     "text": [
      "Epoch 1/500\n",
      "13/13 [==============================] - 1s 27ms/step - loss: 34.4954 - accuracy: 0.3364 - val_loss: 29.3763 - val_accuracy: 0.3682\n",
      "Epoch 2/500\n",
      "13/13 [==============================] - 0s 23ms/step - loss: 34.1923 - accuracy: 0.3345 - val_loss: 29.0963 - val_accuracy: 0.3682\n",
      "Epoch 3/500\n",
      "13/13 [==============================] - 0s 23ms/step - loss: 33.8860 - accuracy: 0.3345 - val_loss: 28.8179 - val_accuracy: 0.3682\n",
      "Epoch 4/500\n",
      "13/13 [==============================] - 0s 23ms/step - loss: 33.5802 - accuracy: 0.3354 - val_loss: 28.5392 - val_accuracy: 0.3682\n",
      "Epoch 5/500\n",
      "13/13 [==============================] - 0s 21ms/step - loss: 33.2783 - accuracy: 0.3350 - val_loss: 28.2566 - val_accuracy: 0.3682\n",
      "Epoch 6/500\n",
      "13/13 [==============================] - 0s 24ms/step - loss: 32.9711 - accuracy: 0.3350 - val_loss: 27.9768 - val_accuracy: 0.3721\n",
      "Epoch 7/500\n",
      "13/13 [==============================] - 0s 25ms/step - loss: 32.6668 - accuracy: 0.3345 - val_loss: 27.6955 - val_accuracy: 0.3721\n",
      "Epoch 8/500\n",
      "13/13 [==============================] - 0s 21ms/step - loss: 32.3633 - accuracy: 0.3340 - val_loss: 27.4112 - val_accuracy: 0.3760\n",
      "Epoch 9/500\n",
      "13/13 [==============================] - 0s 21ms/step - loss: 32.0595 - accuracy: 0.3335 - val_loss: 27.1323 - val_accuracy: 0.3760\n",
      "Epoch 10/500\n",
      "13/13 [==============================] - 0s 21ms/step - loss: 31.7573 - accuracy: 0.3340 - val_loss: 26.8585 - val_accuracy: 0.3760\n",
      "Epoch 11/500\n",
      "13/13 [==============================] - 0s 22ms/step - loss: 31.4569 - accuracy: 0.3345 - val_loss: 26.5867 - val_accuracy: 0.3760\n",
      "Epoch 12/500\n",
      "13/13 [==============================] - 0s 21ms/step - loss: 31.1574 - accuracy: 0.3359 - val_loss: 26.3176 - val_accuracy: 0.3760\n",
      "Epoch 13/500\n",
      "13/13 [==============================] - 0s 22ms/step - loss: 30.8631 - accuracy: 0.3354 - val_loss: 26.0483 - val_accuracy: 0.3760\n",
      "Epoch 14/500\n",
      "13/13 [==============================] - 0s 22ms/step - loss: 30.5652 - accuracy: 0.3354 - val_loss: 25.7802 - val_accuracy: 0.3760\n",
      "Epoch 15/500\n",
      "13/13 [==============================] - 0s 22ms/step - loss: 30.2705 - accuracy: 0.3364 - val_loss: 25.5116 - val_accuracy: 0.3760\n",
      "Epoch 16/500\n",
      "13/13 [==============================] - 0s 21ms/step - loss: 29.9753 - accuracy: 0.3364 - val_loss: 25.2474 - val_accuracy: 0.3760\n",
      "Epoch 17/500\n",
      "13/13 [==============================] - 0s 21ms/step - loss: 29.6807 - accuracy: 0.3364 - val_loss: 24.9855 - val_accuracy: 0.3760\n",
      "Epoch 18/500\n",
      "13/13 [==============================] - 0s 24ms/step - loss: 29.3895 - accuracy: 0.3359 - val_loss: 24.7251 - val_accuracy: 0.3798\n",
      "Epoch 19/500\n",
      "13/13 [==============================] - 0s 22ms/step - loss: 29.0983 - accuracy: 0.3369 - val_loss: 24.4631 - val_accuracy: 0.3760\n",
      "Epoch 20/500\n",
      "13/13 [==============================] - 0s 23ms/step - loss: 28.8128 - accuracy: 0.3369 - val_loss: 24.2013 - val_accuracy: 0.3760\n",
      "Epoch 21/500\n",
      "13/13 [==============================] - 0s 23ms/step - loss: 28.5254 - accuracy: 0.3369 - val_loss: 23.9442 - val_accuracy: 0.3837\n",
      "Epoch 22/500\n",
      "13/13 [==============================] - 0s 21ms/step - loss: 28.2420 - accuracy: 0.3388 - val_loss: 23.6898 - val_accuracy: 0.3876\n",
      "Epoch 23/500\n",
      "13/13 [==============================] - 0s 22ms/step - loss: 27.9596 - accuracy: 0.3388 - val_loss: 23.4385 - val_accuracy: 0.3876\n",
      "Epoch 24/500\n",
      "13/13 [==============================] - 0s 21ms/step - loss: 27.6772 - accuracy: 0.3388 - val_loss: 23.1907 - val_accuracy: 0.3915\n",
      "Epoch 25/500\n",
      "13/13 [==============================] - 0s 21ms/step - loss: 27.4008 - accuracy: 0.3393 - val_loss: 22.9418 - val_accuracy: 0.3876\n",
      "Epoch 26/500\n",
      "13/13 [==============================] - 0s 23ms/step - loss: 27.1208 - accuracy: 0.3408 - val_loss: 22.6979 - val_accuracy: 0.3915\n",
      "Epoch 27/500\n",
      "13/13 [==============================] - 0s 23ms/step - loss: 26.8488 - accuracy: 0.3408 - val_loss: 22.4530 - val_accuracy: 0.3915\n",
      "Epoch 28/500\n",
      "13/13 [==============================] - 0s 24ms/step - loss: 26.5716 - accuracy: 0.3398 - val_loss: 22.2180 - val_accuracy: 0.3915\n",
      "Epoch 29/500\n",
      "13/13 [==============================] - 0s 21ms/step - loss: 26.3048 - accuracy: 0.3393 - val_loss: 21.9818 - val_accuracy: 0.3915\n",
      "Epoch 30/500\n",
      "13/13 [==============================] - 0s 21ms/step - loss: 26.0374 - accuracy: 0.3393 - val_loss: 21.7466 - val_accuracy: 0.3915\n",
      "Epoch 31/500\n",
      "13/13 [==============================] - 0s 21ms/step - loss: 25.7699 - accuracy: 0.3403 - val_loss: 21.5153 - val_accuracy: 0.3915\n",
      "Epoch 32/500\n",
      "13/13 [==============================] - 0s 21ms/step - loss: 25.5080 - accuracy: 0.3408 - val_loss: 21.2855 - val_accuracy: 0.3876\n",
      "Epoch 33/500\n",
      "13/13 [==============================] - 0s 21ms/step - loss: 25.2532 - accuracy: 0.3413 - val_loss: 21.0518 - val_accuracy: 0.3876\n",
      "Epoch 34/500\n",
      "13/13 [==============================] - 0s 21ms/step - loss: 24.9915 - accuracy: 0.3418 - val_loss: 20.8228 - val_accuracy: 0.3915\n",
      "Epoch 35/500\n",
      "13/13 [==============================] - 0s 21ms/step - loss: 24.7357 - accuracy: 0.3437 - val_loss: 20.5967 - val_accuracy: 0.3915\n",
      "Epoch 36/500\n",
      "13/13 [==============================] - 0s 21ms/step - loss: 24.4815 - accuracy: 0.3437 - val_loss: 20.3760 - val_accuracy: 0.3915\n",
      "Epoch 37/500\n",
      "13/13 [==============================] - 0s 22ms/step - loss: 24.2306 - accuracy: 0.3432 - val_loss: 20.1577 - val_accuracy: 0.3876\n",
      "Epoch 38/500\n",
      "13/13 [==============================] - 0s 22ms/step - loss: 23.9770 - accuracy: 0.3432 - val_loss: 19.9481 - val_accuracy: 0.3876\n",
      "Epoch 39/500\n",
      "13/13 [==============================] - 0s 21ms/step - loss: 23.7322 - accuracy: 0.3427 - val_loss: 19.7386 - val_accuracy: 0.3876\n",
      "Epoch 40/500\n",
      " 7/13 [===============>..............] - ETA: 0s - loss: 23.6584 - accuracy: 0.3354"
     ]
    }
   ],
   "source": [
    "history,model= mlpModel(x_train, x_test, \n",
    "                 y_train, y_test, \n",
    "                 x_validate, y_validate)"
   ]
  },
  {
   "cell_type": "code",
   "execution_count": null,
   "id": "2f1c501b",
   "metadata": {
    "scrolled": false
   },
   "outputs": [],
   "source": [
    "mlpStats(history,model)"
   ]
  },
  {
   "cell_type": "code",
   "execution_count": 57,
   "id": "596d5173",
   "metadata": {
    "scrolled": false
   },
   "outputs": [
    {
     "name": "stdout",
     "output_type": "stream",
     "text": [
      "Logistic model\n"
     ]
    },
    {
     "name": "stderr",
     "output_type": "stream",
     "text": [
      "C:\\Users\\hazel\\anaconda3\\lib\\site-packages\\sklearn\\linear_model\\_logistic.py:814: ConvergenceWarning: lbfgs failed to converge (status=1):\n",
      "STOP: TOTAL NO. of ITERATIONS REACHED LIMIT.\n",
      "\n",
      "Increase the number of iterations (max_iter) or scale the data as shown in:\n",
      "    https://scikit-learn.org/stable/modules/preprocessing.html\n",
      "Please also refer to the documentation for alternative solver options:\n",
      "    https://scikit-learn.org/stable/modules/linear_model.html#logistic-regression\n",
      "  n_iter_i = _check_optimize_result(\n",
      "C:\\Users\\hazel\\anaconda3\\lib\\site-packages\\sklearn\\utils\\deprecation.py:87: FutureWarning: Function plot_confusion_matrix is deprecated; Function `plot_confusion_matrix` is deprecated in 1.0 and will be removed in 1.2. Use one of the class methods: ConfusionMatrixDisplay.from_predictions or ConfusionMatrixDisplay.from_estimator.\n",
      "  warnings.warn(msg, category=FutureWarning)\n"
     ]
    },
    {
     "name": "stdout",
     "output_type": "stream",
     "text": [
      "              precision    recall  f1-score   support\n",
      "\n",
      "           0       0.43      0.42      0.43        80\n",
      "           1       0.48      0.51      0.50        86\n",
      "           2       0.48      0.46      0.47        91\n",
      "\n",
      "    accuracy                           0.47       257\n",
      "   macro avg       0.47      0.47      0.47       257\n",
      "weighted avg       0.47      0.47      0.47       257\n",
      "\n",
      "Decision Tree model\n"
     ]
    },
    {
     "name": "stderr",
     "output_type": "stream",
     "text": [
      "C:\\Users\\hazel\\anaconda3\\lib\\site-packages\\sklearn\\utils\\deprecation.py:87: FutureWarning: Function plot_confusion_matrix is deprecated; Function `plot_confusion_matrix` is deprecated in 1.0 and will be removed in 1.2. Use one of the class methods: ConfusionMatrixDisplay.from_predictions or ConfusionMatrixDisplay.from_estimator.\n",
      "  warnings.warn(msg, category=FutureWarning)\n"
     ]
    },
    {
     "name": "stdout",
     "output_type": "stream",
     "text": [
      "              precision    recall  f1-score   support\n",
      "\n",
      "           0       0.45      0.51      0.48        80\n",
      "           1       0.52      0.52      0.52        86\n",
      "           2       0.45      0.38      0.41        91\n",
      "\n",
      "    accuracy                           0.47       257\n",
      "   macro avg       0.47      0.47      0.47       257\n",
      "weighted avg       0.47      0.47      0.47       257\n",
      "\n",
      "Random Forest model\n",
      "              precision    recall  f1-score   support\n",
      "\n",
      "           0       0.65      0.78      0.71        80\n",
      "           1       0.60      0.64      0.62        86\n",
      "           2       0.70      0.55      0.62        91\n",
      "\n",
      "    accuracy                           0.65       257\n",
      "   macro avg       0.65      0.65      0.65       257\n",
      "weighted avg       0.65      0.65      0.65       257\n",
      "\n"
     ]
    },
    {
     "name": "stderr",
     "output_type": "stream",
     "text": [
      "C:\\Users\\hazel\\anaconda3\\lib\\site-packages\\sklearn\\utils\\deprecation.py:87: FutureWarning: Function plot_confusion_matrix is deprecated; Function `plot_confusion_matrix` is deprecated in 1.0 and will be removed in 1.2. Use one of the class methods: ConfusionMatrixDisplay.from_predictions or ConfusionMatrixDisplay.from_estimator.\n",
      "  warnings.warn(msg, category=FutureWarning)\n"
     ]
    },
    {
     "data": {
      "image/png": "[encoded data removed]",
      "text/plain": [
       "<Figure size 432x288 with 2 Axes>"
      ]
     },
     "metadata": {
      "needs_background": "light"
     },
     "output_type": "display_data"
    },
    {
     "data": {
      "image/png": "[encoded data removed]",
      "text/plain": [
       "<Figure size 432x288 with 2 Axes>"
      ]
     },
     "metadata": {
      "needs_background": "light"
     },
     "output_type": "display_data"
    },
    {
     "data": {
      "image/png": "[encoded data removed]",
      "text/plain": [
       "<Figure size 432x288 with 2 Axes>"
      ]
     },
     "metadata": {
      "needs_background": "light"
     },
     "output_type": "display_data"
    }
   ],
   "source": [
    "modelLearning(x_train, x_test, y_train, y_test)"
   ]
  },
  {
   "cell_type": "code",
   "execution_count": null,
   "id": "7fa70442",
   "metadata": {},
   "outputs": [],
   "source": []
  }
 ],
 "metadata": {
  "kernelspec": {
   "display_name": "Python 3 (ipykernel)",
   "language": "python",
   "name": "python3"
  },
  "language_info": {
   "codemirror_mode": {
    "name": "ipython",
    "version": 3
   },
   "file_extension": ".py",
   "mimetype": "text/x-python",
   "name": "python",
   "nbconvert_exporter": "python",
   "pygments_lexer": "ipython3",
   "version": "3.9.7"
  }
 },
 "nbformat": 4,
 "nbformat_minor": 5
}
