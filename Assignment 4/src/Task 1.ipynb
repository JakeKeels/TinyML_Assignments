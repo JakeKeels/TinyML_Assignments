{
 "cells": [
  {
   "cell_type": "markdown",
   "id": "370b4ecd",
   "metadata": {},
   "source": [
    "# Import statements"
   ]
  },
  {
   "cell_type": "code",
   "execution_count": 144,
   "id": "ba9d8a81",
   "metadata": {},
   "outputs": [],
   "source": [
    "from skimage import io\n",
    "import numpy as np\n",
    "import os\n",
    "from sklearn.metrics import confusion_matrix\n",
    "from sklearn.linear_model import LogisticRegression\n",
    "from sklearn.model_selection import train_test_split\n",
    "from sklearn import metrics\n",
    "from sklearn.linear_model import LogisticRegression\n",
    "from sklearn.tree import DecisionTreeClassifier\n",
    "from sklearn.ensemble import RandomForestClassifier\n",
    "from sklearn.metrics import plot_confusion_matrix"
   ]
  },
  {
   "cell_type": "markdown",
   "id": "86dfa728",
   "metadata": {},
   "source": [
    "## Functions for running model, then getting statistics, as well as confusion matrix"
   ]
  },
  {
   "cell_type": "code",
   "execution_count": 145,
   "id": "7f5be7af",
   "metadata": {},
   "outputs": [],
   "source": [
    "def testPredict(X_train, X_test, y_train, y_test,model):\n",
    "    model.fit(X_train,y_train)\n",
    "    ypred = model.predict(X_test)\n",
    "    plot_confusion_matrix(model, X_test, y_test, cmap='RdPu')\n",
    "    print(metrics.classification_report(y_test, ypred))\n",
    "    \n",
    "def modelLearning(X,y):\n",
    "    X_train, X_test, y_train, y_test = train_test_split(X, y,test_size=.2)\n",
    "    model = LogisticRegression()\n",
    "    print('Logistic model')\n",
    "    testPredict(X_train, X_test, y_train, y_test,model)\n",
    "    model = DecisionTreeClassifier()\n",
    "    print('Decision Tree model')\n",
    "    testPredict(X_train, X_test, y_train, y_test,model)\n",
    "    model = RandomForestClassifier()\n",
    "    print('Random Forest model')\n",
    "    testPredict(X_train, X_test, y_train, y_test,model)"
   ]
  },
  {
   "cell_type": "markdown",
   "id": "aa62acb9",
   "metadata": {},
   "source": [
    "# Collects files from my folder, classifies them"
   ]
  },
  {
   "cell_type": "code",
   "execution_count": 146,
   "id": "81c29c36",
   "metadata": {
    "scrolled": false
   },
   "outputs": [],
   "source": [
    "folder = '/Users/hazel/Downloads/Image/Jake Keels - Jake_Keels'\n",
    "\n",
    "images = [os.path.join(root, filename)\n",
    "          for root, dirs, files in os.walk(folder)\n",
    "          for filename in files\n",
    "          if filename.lower().endswith('.jpg')]\n",
    "y_img = []\n",
    "ic = []\n",
    "#230400\n",
    "for img in images:\n",
    "    if np.size(io.imread(img).flatten()) == 230400:\n",
    "        ic.append(io.imread(img).flatten())\n",
    "        if 'ban' in img.lower():\n",
    "            y_img.append(0)\n",
    "        elif 'or' in img.lower():\n",
    "            y_img.append(1)\n",
    "        else:\n",
    "            y_img.append(2)\n",
    "X_train, X_test, y_train, y_test = train_test_split(ic, y_img,test_size=.2)"
   ]
  },
  {
   "cell_type": "markdown",
   "id": "2fb6e34d",
   "metadata": {},
   "source": [
    "# Running models"
   ]
  },
  {
   "cell_type": "code",
   "execution_count": 147,
   "id": "55fa9269",
   "metadata": {
    "scrolled": false
   },
   "outputs": [
    {
     "name": "stdout",
     "output_type": "stream",
     "text": [
      "Logistic model\n"
     ]
    },
    {
     "name": "stderr",
     "output_type": "stream",
     "text": [
      "C:\\Users\\hazel\\anaconda3\\lib\\site-packages\\sklearn\\linear_model\\_logistic.py:814: ConvergenceWarning: lbfgs failed to converge (status=1):\n",
      "STOP: TOTAL NO. of ITERATIONS REACHED LIMIT.\n",
      "\n",
      "Increase the number of iterations (max_iter) or scale the data as shown in:\n",
      "    https://scikit-learn.org/stable/modules/preprocessing.html\n",
      "Please also refer to the documentation for alternative solver options:\n",
      "    https://scikit-learn.org/stable/modules/linear_model.html#logistic-regression\n",
      "  n_iter_i = _check_optimize_result(\n",
      "C:\\Users\\hazel\\anaconda3\\lib\\site-packages\\sklearn\\utils\\deprecation.py:87: FutureWarning: Function plot_confusion_matrix is deprecated; Function `plot_confusion_matrix` is deprecated in 1.0 and will be removed in 1.2. Use one of the class methods: ConfusionMatrixDisplay.from_predictions or ConfusionMatrixDisplay.from_estimator.\n",
      "  warnings.warn(msg, category=FutureWarning)\n"
     ]
    },
    {
     "name": "stdout",
     "output_type": "stream",
     "text": [
      "              precision    recall  f1-score   support\n",
      "\n",
      "           0       0.44      0.57      0.50         7\n",
      "           1       0.62      0.45      0.53        11\n",
      "           2       0.54      0.58      0.56        12\n",
      "\n",
      "    accuracy                           0.53        30\n",
      "   macro avg       0.54      0.54      0.53        30\n",
      "weighted avg       0.55      0.53      0.53        30\n",
      "\n",
      "Decision Tree model\n"
     ]
    },
    {
     "name": "stderr",
     "output_type": "stream",
     "text": [
      "C:\\Users\\hazel\\anaconda3\\lib\\site-packages\\sklearn\\utils\\deprecation.py:87: FutureWarning: Function plot_confusion_matrix is deprecated; Function `plot_confusion_matrix` is deprecated in 1.0 and will be removed in 1.2. Use one of the class methods: ConfusionMatrixDisplay.from_predictions or ConfusionMatrixDisplay.from_estimator.\n",
      "  warnings.warn(msg, category=FutureWarning)\n"
     ]
    },
    {
     "name": "stdout",
     "output_type": "stream",
     "text": [
      "              precision    recall  f1-score   support\n",
      "\n",
      "           0       0.71      0.71      0.71         7\n",
      "           1       0.77      0.91      0.83        11\n",
      "           2       0.80      0.67      0.73        12\n",
      "\n",
      "    accuracy                           0.77        30\n",
      "   macro avg       0.76      0.76      0.76        30\n",
      "weighted avg       0.77      0.77      0.76        30\n",
      "\n",
      "Random Forest model\n"
     ]
    },
    {
     "name": "stderr",
     "output_type": "stream",
     "text": [
      "C:\\Users\\hazel\\anaconda3\\lib\\site-packages\\sklearn\\utils\\deprecation.py:87: FutureWarning: Function plot_confusion_matrix is deprecated; Function `plot_confusion_matrix` is deprecated in 1.0 and will be removed in 1.2. Use one of the class methods: ConfusionMatrixDisplay.from_predictions or ConfusionMatrixDisplay.from_estimator.\n",
      "  warnings.warn(msg, category=FutureWarning)\n"
     ]
    },
    {
     "name": "stdout",
     "output_type": "stream",
     "text": [
      "              precision    recall  f1-score   support\n",
      "\n",
      "           0       0.70      1.00      0.82         7\n",
      "           1       0.88      0.64      0.74        11\n",
      "           2       0.75      0.75      0.75        12\n",
      "\n",
      "    accuracy                           0.77        30\n",
      "   macro avg       0.78      0.80      0.77        30\n",
      "weighted avg       0.78      0.77      0.76        30\n",
      "\n"
     ]
    },
    {
     "data": {
      "image/png": "[encoded data removed]",
      "text/plain": [
       "<Figure size 432x288 with 2 Axes>"
      ]
     },
     "metadata": {
      "needs_background": "light"
     },
     "output_type": "display_data"
    },
    {
     "data": {
      "image/png": "[encoded data removed]",
      "text/plain": [
       "<Figure size 432x288 with 2 Axes>"
      ]
     },
     "metadata": {
      "needs_background": "light"
     },
     "output_type": "display_data"
    },
    {
     "data": {
      "image/png": "[encoded data removed]",
      "text/plain": [
       "<Figure size 432x288 with 2 Axes>"
      ]
     },
     "metadata": {
      "needs_background": "light"
     },
     "output_type": "display_data"
    }
   ],
   "source": [
    "modelLearning(ic,y_img)"
   ]
  }
 ],
 "metadata": {
  "kernelspec": {
   "display_name": "Python 3 (ipykernel)",
   "language": "python",
   "name": "python3"
  },
  "language_info": {
   "codemirror_mode": {
    "name": "ipython",
    "version": 3
   },
   "file_extension": ".py",
   "mimetype": "text/x-python",
   "name": "python",
   "nbconvert_exporter": "python",
   "pygments_lexer": "ipython3",
   "version": "3.9.7"
  }
 },
 "nbformat": 4,
 "nbformat_minor": 5
}
