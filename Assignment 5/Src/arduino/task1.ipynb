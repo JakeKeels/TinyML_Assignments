{
 "cells": [
  {
   "cell_type": "code",
   "execution_count": 1,
   "id": "c3fee617",
   "metadata": {},
   "outputs": [],
   "source": [
    "import sys, os\n",
    "import random\n",
    "import numpy as np\n",
    "import csv\n",
    "from sklearn.metrics import confusion_matrix\n",
    "from sklearn.linear_model import LogisticRegression\n",
    "import seaborn\n",
    "from sklearn.model_selection import train_test_split\n",
    "from sklearn import metrics\n",
    "from sklearn.linear_model import LogisticRegression\n",
    "from sklearn.tree import DecisionTreeClassifier\n",
    "from sklearn.ensemble import RandomForestClassifier\n",
    "from sklearn.metrics import plot_confusion_matrix"
   ]
  },
  {
   "cell_type": "code",
   "execution_count": 2,
   "id": "6995b1f3",
   "metadata": {},
   "outputs": [],
   "source": [
    "def readCSV(folder, array,y):\n",
    "    CSV = [os.path.join(root, filename)\n",
    "          for root, dirs, files in os.walk(folder)\n",
    "          for filename in files\n",
    "          if filename.lower().endswith('.csv')]\n",
    "    for fileIn in CSV:\n",
    "        \n",
    "        if 'fist' in fileIn:\n",
    "            for x in range(50):\n",
    "                y.append(0)\n",
    "        else:\n",
    "            for x in range(50):\n",
    "                y.append(1)\n",
    "        print(len(array))\n",
    "        print(len(y))\n",
    "        inArr=[]\n",
    "        with open(fileIn, 'r') as file: \n",
    "            reader = csv.reader(file)\n",
    "            next(reader)\n",
    "            numSamples = 0;\n",
    "            x = 0\n",
    "            for lines in reader:\n",
    "                lines.pop()\n",
    "                if np.size(lines)!=6:\n",
    "                    print(np.size(lines))\n",
    "                    print(fileIn)\n",
    "                    return -1\n",
    "                for vals in lines:\n",
    "                  inArr.append(vals)\n",
    "                x = x + 1 \n",
    "                if x >= 119:\n",
    "                    numSamples=numSamples+1\n",
    "                    array.append(inArr)\n",
    "                    x = 0 \n",
    "                    inArr = []"
   ]
  },
  {
   "cell_type": "code",
   "execution_count": 6,
   "id": "7c4a1548",
   "metadata": {},
   "outputs": [
    {
     "name": "stdout",
     "output_type": "stream",
     "text": [
      "0\n",
      "50\n",
      "50\n",
      "100\n"
     ]
    }
   ],
   "source": [
    "X = []\n",
    "y = []\n",
    "readCSV('C:\\\\Users\\\\hazel\\\\Desktop\\\\IMU\\\\Jake Keels - 2022-03-01 19.32.11 - Jake_Keels',X,y)"
   ]
  },
  {
   "cell_type": "code",
   "execution_count": 7,
   "id": "1e3bd5af",
   "metadata": {},
   "outputs": [
    {
     "name": "stdout",
     "output_type": "stream",
     "text": [
      "Random Forest model\n",
      "              precision    recall  f1-score   support\n",
      "\n",
      "           0       1.00      1.00      1.00        13\n",
      "           1       1.00      1.00      1.00         7\n",
      "\n",
      "    accuracy                           1.00        20\n",
      "   macro avg       1.00      1.00      1.00        20\n",
      "weighted avg       1.00      1.00      1.00        20\n",
      "\n"
     ]
    },
    {
     "data": {
      "image/png": "[encoded data removed]",
      "text/plain": [
       "<Figure size 432x288 with 2 Axes>"
      ]
     },
     "metadata": {
      "needs_background": "light"
     },
     "output_type": "display_data"
    }
   ],
   "source": [
    "model = modelLearning(X,y)"
   ]
  },
  {
   "cell_type": "code",
   "execution_count": 8,
   "id": "9763cc8a",
   "metadata": {
    "scrolled": true
   },
   "outputs": [
    {
     "name": "stdout",
     "output_type": "stream",
     "text": [
      "0\n",
      "50\n",
      "50\n",
      "100\n",
      "100\n",
      "150\n",
      "150\n",
      "200\n",
      "200\n",
      "250\n",
      "250\n",
      "300\n",
      "300\n",
      "350\n",
      "350\n",
      "400\n",
      "400\n",
      "450\n",
      "450\n",
      "500\n",
      "500\n",
      "550\n",
      "550\n",
      "600\n",
      "600\n",
      "650\n",
      "650\n",
      "700\n",
      "700\n",
      "750\n",
      "750\n",
      "800\n",
      "800\n",
      "850\n",
      "850\n",
      "900\n",
      "900\n",
      "950\n",
      "950\n",
      "1000\n",
      "1000\n",
      "1050\n",
      "1050\n",
      "1100\n",
      "1100\n",
      "1150\n",
      "1150\n",
      "1200\n",
      "1200\n",
      "1250\n",
      "1250\n",
      "1300\n",
      "1300\n",
      "1350\n",
      "1350\n",
      "1400\n",
      "1400\n",
      "1450\n",
      "1450\n",
      "1500\n",
      "1500\n",
      "1550\n",
      "1550\n",
      "1600\n",
      "1600\n",
      "1650\n",
      "1650\n",
      "1700\n",
      "1700\n",
      "1750\n",
      "1750\n",
      "1800\n",
      "1800\n",
      "1850\n",
      "1850\n",
      "1900\n",
      "1900\n",
      "1950\n",
      "1950\n",
      "2000\n"
     ]
    }
   ],
   "source": [
    "X = []\n",
    "y = []\n",
    "readCSV('C:\\\\Users\\\\hazel\\\\Desktop\\\\IMU',X,y)"
   ]
  },
  {
   "cell_type": "code",
   "execution_count": 9,
   "id": "c055b24a",
   "metadata": {},
   "outputs": [],
   "source": [
    "def testPredict(X_train, X_test, y_train, y_test,model):\n",
    "    model.fit(X_train,y_train)\n",
    "    ypred = model.predict(X_test)\n",
    "    plot_confusion_matrix(model, X_test, y_test, cmap='RdPu')\n",
    "    print(metrics.classification_report(y_test, ypred))\n",
    "    \n",
    "def modelLearning(X,y):\n",
    "    X_train, X_test, y_train, y_test = train_test_split(X, y,test_size=.2)\n",
    "    model = RandomForestClassifier(max_depth = 2, n_estimators = 100)\n",
    "    print('Random Forest model')\n",
    "    testPredict(X_train, X_test, y_train, y_test,model)\n",
    "    return model"
   ]
  },
  {
   "cell_type": "code",
   "execution_count": null,
   "id": "554ae4f1",
   "metadata": {},
   "outputs": [],
   "source": [
    "model = modelLearning(X,y)"
   ]
  },
  {
   "cell_type": "code",
   "execution_count": null,
   "id": "fd17a32b",
   "metadata": {},
   "outputs": [],
   "source": [
    "from micromlgen import port\n",
    "\n",
    "with open(\"C:\\\\Users\\\\hazel\\\\Desktop\\\\arduino\\\\sketch_apr21a\\\\Classifier.h\", \"w\") as file:\n",
    "    file.write(port(model, classname=\"Classifier\"))"
   ]
  },
  {
   "cell_type": "code",
   "execution_count": null,
   "id": "dad82e6b",
   "metadata": {},
   "outputs": [],
   "source": []
  },
  {
   "cell_type": "code",
   "execution_count": null,
   "id": "5cf12926",
   "metadata": {},
   "outputs": [],
   "source": []
  }
 ],
 "metadata": {
  "kernelspec": {
   "display_name": "Python 3 (ipykernel)",
   "language": "python",
   "name": "python3"
  },
  "language_info": {
   "codemirror_mode": {
    "name": "ipython",
    "version": 3
   },
   "file_extension": ".py",
   "mimetype": "text/x-python",
   "name": "python",
   "nbconvert_exporter": "python",
   "pygments_lexer": "ipython3",
   "version": "3.9.7"
  }
 },
 "nbformat": 4,
 "nbformat_minor": 5
}
