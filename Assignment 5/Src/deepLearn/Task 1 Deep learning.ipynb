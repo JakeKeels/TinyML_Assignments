{
 "cells": [
  {
   "cell_type": "code",
   "execution_count": 2,
   "id": "5498a5fe",
   "metadata": {},
   "outputs": [],
   "source": [
    "import sys, os\n",
    "import random\n",
    "import numpy as np\n",
    "import csv\n",
    "from sklearn.metrics import confusion_matrix\n",
    "from sklearn.linear_model import LogisticRegression\n",
    "import seaborn\n",
    "from sklearn.model_selection import train_test_split\n",
    "from sklearn import metrics\n",
    "from sklearn.linear_model import LogisticRegression\n",
    "from sklearn.tree import DecisionTreeClassifier\n",
    "from sklearn.ensemble import RandomForestClassifier\n",
    "from sklearn.metrics import plot_confusion_matrix\n",
    "from tensorflow.keras.models import Sequential\n",
    "from tensorflow.keras.layers import Dense, Dropout, Activation\n",
    "from tensorflow.keras.utils import plot_model\n",
    "from tensorflow.keras.preprocessing.image import ImageDataGenerator\n",
    "from tensorflow.keras import regularizers\n",
    "import tensorflow_model_optimization as tfmot\n",
    "prune_low_magnitude = tfmot.sparsity.keras.prune_low_magnitude\n",
    "from keras import layers\n",
    "from keras.callbacks import LearningRateScheduler\n",
    "import keras\n",
    "import tensorflow as tf\n",
    "import matplotlib.pyplot as plt\n",
    "import seaborn as sns"
   ]
  },
  {
   "cell_type": "code",
   "execution_count": 3,
   "id": "bbb3a053",
   "metadata": {},
   "outputs": [],
   "source": [
    "def readCSV(folder, array,y):\n",
    "    CSV = [os.path.join(root, filename)\n",
    "          for root, dirs, files in os.walk(folder)\n",
    "          for filename in files\n",
    "          if filename.lower().endswith('.csv')]\n",
    "    for fileIn in CSV:\n",
    "        if 'fist' in fileIn:\n",
    "            for x in range(50):\n",
    "                y.append(0)\n",
    "        else:\n",
    "            for x in range(50):\n",
    "                y.append(1)\n",
    "        inArr=[]\n",
    "        with open(fileIn, 'r') as file: \n",
    "            reader = csv.reader(file)\n",
    "            next(reader)\n",
    "            numSamples = 0;\n",
    "            x = 0\n",
    "            for lines in reader:\n",
    "                lines.pop()\n",
    "                if np.size(lines)!=6:\n",
    "                    print(np.size(lines))\n",
    "                    print(fileIn)\n",
    "                    return -1\n",
    "                for vals in lines:\n",
    "                  inArr.append(float(vals))\n",
    "                x = x + 1 \n",
    "                if x >= 119:\n",
    "                    numSamples=numSamples+1\n",
    "                    array.append(inArr)\n",
    "                    x = 0 \n",
    "                    inArr = []\n",
    "    x_train, x_test, y_train, y_test = train_test_split(array, y,test_size=.3)\n",
    "    TEST_SPLIT = len(x_test) * .5\n",
    "    # Use np.split to chop our data into three parts.\n",
    "    # The second argument to np.split is an array of indices where the data will be\n",
    "    # split. We provide two indices, so the data will be divided into three chunks.\n",
    "    x_test, x_validate = np.split(x_test, [int(TEST_SPLIT)])\n",
    "    y_test, y_validate = np.split(y_test, [int(TEST_SPLIT)])\n",
    "    return [x_train, x_test, x_validate, y_train, y_test, y_validate]"
   ]
  },
  {
   "cell_type": "code",
   "execution_count": 50,
   "id": "d7e173e8",
   "metadata": {},
   "outputs": [],
   "source": [
    "X = []\n",
    "y = []\n",
    "Vals = readCSV('C:\\\\Users\\\\hazel\\\\Desktop\\\\IMU\\\\Jake Keels - 2022-03-01 19.32.11 - Jake_Keels',X,y)"
   ]
  },
  {
   "cell_type": "code",
   "execution_count": 4,
   "id": "d5f7251a",
   "metadata": {},
   "outputs": [],
   "source": [
    "def mlpModel(x_train, x_validate,y_train,y_validate):\n",
    "    model = keras.models.Sequential()\n",
    "    #model.add(Dense(64,activation='relu'))\n",
    "    model.add(Dense(128,input_dim = 714,activation='relu'))\n",
    "   \n",
    "    model.add(Dense(64,activation='relu'))\n",
    "    #model.add(Dropout(.2))\n",
    "    model.add(Dense(2, activation='softmax'))\n",
    "    \n",
    "    callback = tf.keras.callbacks.EarlyStopping(monitor = 'val_loss',#'val_accuracy', \n",
    "                                             patience = 2, \n",
    "                                             restore_best_weights = True)\n",
    "    \n",
    "    model.compile(optimizer=tf.keras.optimizers.Adam(),loss='sparse_categorical_crossentropy',\n",
    "                  metrics=['accuracy'])#'mae',\n",
    "    return model.fit(np.array(x_train),\n",
    "                     np.array(y_train),\n",
    "                     epochs=20, \n",
    "                     verbose = True, \n",
    "                     #batch_size = int(len(ic)*8/125),\n",
    "                     #steps_per_epoch = 50,\n",
    "                     batch_size = 32,\n",
    "                     callbacks=[callback], \n",
    "                     validation_data=(x_validate, y_validate)),model"
   ]
  },
  {
   "cell_type": "code",
   "execution_count": 93,
   "id": "91ee01a3",
   "metadata": {
    "collapsed": true
   },
   "outputs": [
    {
     "name": "stdout",
     "output_type": "stream",
     "text": [
      "Epoch 1/20\n",
      "3/3 [==============================] - 0s 45ms/step - loss: 35.1190 - accuracy: 0.5857 - val_loss: 0.0016 - val_accuracy: 1.0000\n",
      "Epoch 2/20\n",
      "3/3 [==============================] - 0s 9ms/step - loss: 1.0877 - accuracy: 0.9571 - val_loss: 0.0000e+00 - val_accuracy: 1.0000\n",
      "Epoch 3/20\n",
      "3/3 [==============================] - 0s 9ms/step - loss: 0.0000e+00 - accuracy: 1.0000 - val_loss: 0.0000e+00 - val_accuracy: 1.0000\n",
      "Epoch 4/20\n",
      "3/3 [==============================] - 0s 9ms/step - loss: 0.0000e+00 - accuracy: 1.0000 - val_loss: 0.0000e+00 - val_accuracy: 1.0000\n"
     ]
    }
   ],
   "source": [
    "history, model = mlpModel(Vals[0],Vals[2],Vals[3],Vals[5])"
   ]
  },
  {
   "cell_type": "code",
   "execution_count": 5,
   "id": "c15e99a6",
   "metadata": {},
   "outputs": [],
   "source": [
    "def mlpStats(history,model,x_test,y_test):\n",
    "    train_loss = history.history['loss']\n",
    "    val_loss = history.history['val_loss']\n",
    "    epochs = range(1, len(train_loss) + 1)\n",
    "    plt.plot(epochs[1:], train_loss[1:], 'g.', label='Training loss')\n",
    "    plt.plot(epochs[1:], val_loss[1:], 'b', label='Validation loss')\n",
    "    plt.title('Training and validation loss')\n",
    "    plt.xlabel('Epochs')\n",
    "    plt.ylabel('Loss')\n",
    "    plt.legend()\n",
    "    plt.show()\n",
    "    y_pred = model.predict(x_test)\n",
    "    y_pred_bool = np.argmax(y_pred, axis=1)\n",
    "    print(metrics.classification_report(y_test, y_pred_bool))\n",
    "    cm = metrics.confusion_matrix(y_test, y_pred_bool) \n",
    "    sns.heatmap(cm, annot=True,cmap='icefire')"
   ]
  },
  {
   "cell_type": "code",
   "execution_count": 66,
   "id": "46b4e939",
   "metadata": {
    "collapsed": true
   },
   "outputs": [
    {
     "data": {
      "image/png": "[encoded data removed]",
      "text/plain": [
       "<Figure size 432x288 with 1 Axes>"
      ]
     },
     "metadata": {
      "needs_background": "light"
     },
     "output_type": "display_data"
    },
    {
     "name": "stdout",
     "output_type": "stream",
     "text": [
      "              precision    recall  f1-score   support\n",
      "\n",
      "           0       1.00      1.00      1.00         6\n",
      "           1       1.00      1.00      1.00         9\n",
      "\n",
      "    accuracy                           1.00        15\n",
      "   macro avg       1.00      1.00      1.00        15\n",
      "weighted avg       1.00      1.00      1.00        15\n",
      "\n"
     ]
    },
    {
     "data": {
      "image/png": "[encoded data removed]",
      "text/plain": [
       "<Figure size 432x288 with 2 Axes>"
      ]
     },
     "metadata": {
      "needs_background": "light"
     },
     "output_type": "display_data"
    }
   ],
   "source": [
    "mlpStats(history, model, Vals[1],Vals[4])"
   ]
  },
  {
   "cell_type": "code",
   "execution_count": 6,
   "id": "ec1a52dd",
   "metadata": {},
   "outputs": [],
   "source": [
    "def mlpModelPrune(x_train, x_validate,y_train,y_validate,model):\n",
    "    end_step = 10 * 3\n",
    "    prune_low_magnitude = tfmot.sparsity.keras.prune_low_magnitude\n",
    "    pruning_params = {\n",
    "      'pruning_schedule': tfmot.sparsity.keras.PolynomialDecay(initial_sparsity=0.5,final_sparsity=0.88,\n",
    "                                                               begin_step=0,end_step=end_step)}\n",
    "    callbacks = [tfmot.sparsity.keras.UpdatePruningStep()]\n",
    "    \n",
    "    model_for_pruning = prune_low_magnitude(model, **pruning_params)\n",
    "\n",
    "    model_for_pruning.compile(loss = 'sparse_categorical_crossentropy',\n",
    "              optimizer = tf.keras.optimizers.Adam(),\n",
    "              metrics = ['accuracy'])\n",
    "    model_for_pruning.fit(np.array(x_train),\n",
    "                     np.array(y_train),\n",
    "                     epochs=25, \n",
    "                     verbose = True, \n",
    "                     callbacks=callbacks, \n",
    "                     validation_data=(x_validate, y_validate))\n",
    "    #model_for_export = tfmot.sparsity.keras.strip_pruning(model_for_pruning)\n",
    "    return model_for_pruning"
   ]
  },
  {
   "cell_type": "code",
   "execution_count": 108,
   "id": "2212da6a",
   "metadata": {
    "collapsed": true
   },
   "outputs": [
    {
     "name": "stdout",
     "output_type": "stream",
     "text": [
      "Epoch 1/25\n",
      "3/3 [==============================] - 1s 59ms/step - loss: 0.0000e+00 - accuracy: 1.0000 - val_loss: 0.0000e+00 - val_accuracy: 1.0000\n",
      "Epoch 2/25\n",
      "3/3 [==============================] - 0s 10ms/step - loss: 0.0000e+00 - accuracy: 1.0000 - val_loss: 0.0000e+00 - val_accuracy: 1.0000\n",
      "Epoch 3/25\n",
      "3/3 [==============================] - 0s 10ms/step - loss: 0.0000e+00 - accuracy: 1.0000 - val_loss: 0.0000e+00 - val_accuracy: 1.0000\n",
      "Epoch 4/25\n",
      "3/3 [==============================] - 0s 11ms/step - loss: 0.0000e+00 - accuracy: 1.0000 - val_loss: 0.0000e+00 - val_accuracy: 1.0000\n",
      "Epoch 5/25\n",
      "3/3 [==============================] - 0s 10ms/step - loss: 0.0000e+00 - accuracy: 1.0000 - val_loss: 0.0000e+00 - val_accuracy: 1.0000\n",
      "Epoch 6/25\n",
      "3/3 [==============================] - 0s 10ms/step - loss: 0.0000e+00 - accuracy: 1.0000 - val_loss: 0.0000e+00 - val_accuracy: 1.0000\n",
      "Epoch 7/25\n",
      "3/3 [==============================] - 0s 11ms/step - loss: 0.0000e+00 - accuracy: 1.0000 - val_loss: 0.0000e+00 - val_accuracy: 1.0000\n",
      "Epoch 8/25\n",
      "3/3 [==============================] - 0s 11ms/step - loss: 0.0000e+00 - accuracy: 1.0000 - val_loss: 0.0000e+00 - val_accuracy: 1.0000\n",
      "Epoch 9/25\n",
      "3/3 [==============================] - 0s 11ms/step - loss: 0.0000e+00 - accuracy: 1.0000 - val_loss: 0.0000e+00 - val_accuracy: 1.0000\n",
      "Epoch 10/25\n",
      "3/3 [==============================] - 0s 11ms/step - loss: 0.0000e+00 - accuracy: 1.0000 - val_loss: 0.0000e+00 - val_accuracy: 1.0000\n",
      "Epoch 11/25\n",
      "3/3 [==============================] - 0s 10ms/step - loss: 0.0000e+00 - accuracy: 1.0000 - val_loss: 0.0000e+00 - val_accuracy: 1.0000\n",
      "Epoch 12/25\n",
      "3/3 [==============================] - 0s 11ms/step - loss: 0.0000e+00 - accuracy: 1.0000 - val_loss: 0.0000e+00 - val_accuracy: 1.0000\n",
      "Epoch 13/25\n",
      "3/3 [==============================] - 0s 10ms/step - loss: 0.0000e+00 - accuracy: 1.0000 - val_loss: 0.0000e+00 - val_accuracy: 1.0000\n",
      "Epoch 14/25\n",
      "3/3 [==============================] - 0s 10ms/step - loss: 0.0000e+00 - accuracy: 1.0000 - val_loss: 0.0000e+00 - val_accuracy: 1.0000\n",
      "Epoch 15/25\n",
      "3/3 [==============================] - 0s 10ms/step - loss: 0.0000e+00 - accuracy: 1.0000 - val_loss: 0.0000e+00 - val_accuracy: 1.0000\n",
      "Epoch 16/25\n",
      "3/3 [==============================] - 0s 11ms/step - loss: 0.0000e+00 - accuracy: 1.0000 - val_loss: 0.0000e+00 - val_accuracy: 1.0000\n",
      "Epoch 17/25\n",
      "3/3 [==============================] - 0s 11ms/step - loss: 0.0000e+00 - accuracy: 1.0000 - val_loss: 0.0000e+00 - val_accuracy: 1.0000\n",
      "Epoch 18/25\n",
      "3/3 [==============================] - 0s 10ms/step - loss: 0.0000e+00 - accuracy: 1.0000 - val_loss: 0.0000e+00 - val_accuracy: 1.0000\n",
      "Epoch 19/25\n",
      "3/3 [==============================] - 0s 11ms/step - loss: 0.0000e+00 - accuracy: 1.0000 - val_loss: 0.0000e+00 - val_accuracy: 1.0000\n",
      "Epoch 20/25\n",
      "3/3 [==============================] - 0s 11ms/step - loss: 0.0000e+00 - accuracy: 1.0000 - val_loss: 0.0000e+00 - val_accuracy: 1.0000\n",
      "Epoch 21/25\n",
      "3/3 [==============================] - 0s 11ms/step - loss: 0.0000e+00 - accuracy: 1.0000 - val_loss: 0.0000e+00 - val_accuracy: 1.0000\n",
      "Epoch 22/25\n",
      "3/3 [==============================] - 0s 11ms/step - loss: 0.0000e+00 - accuracy: 1.0000 - val_loss: 0.0000e+00 - val_accuracy: 1.0000\n",
      "Epoch 23/25\n",
      "3/3 [==============================] - 0s 10ms/step - loss: 0.0000e+00 - accuracy: 1.0000 - val_loss: 0.0000e+00 - val_accuracy: 1.0000\n",
      "Epoch 24/25\n",
      "3/3 [==============================] - 0s 10ms/step - loss: 0.0000e+00 - accuracy: 1.0000 - val_loss: 0.0000e+00 - val_accuracy: 1.0000\n",
      "Epoch 25/25\n",
      "3/3 [==============================] - 0s 9ms/step - loss: 0.0000e+00 - accuracy: 1.0000 - val_loss: 0.0000e+00 - val_accuracy: 1.0000\n"
     ]
    }
   ],
   "source": [
    "prunedModel = mlpModelPrune(Vals[0],Vals[1],Vals[3],Vals[4],model)"
   ]
  },
  {
   "cell_type": "code",
   "execution_count": 106,
   "id": "dca01581",
   "metadata": {
    "collapsed": true
   },
   "outputs": [
    {
     "name": "stdout",
     "output_type": "stream",
     "text": [
      "Model: \"sequential_7\"\n",
      "_________________________________________________________________\n",
      " Layer (type)                Output Shape              Param #   \n",
      "=================================================================\n",
      " dense_21 (Dense)            (None, 128)               91520     \n",
      "                                                                 \n",
      " dense_22 (Dense)            (None, 64)                8256      \n",
      "                                                                 \n",
      " dense_23 (Dense)            (None, 2)                 130       \n",
      "                                                                 \n",
      "=================================================================\n",
      "Total params: 99,906\n",
      "Trainable params: 99,906\n",
      "Non-trainable params: 0\n",
      "_________________________________________________________________\n",
      "None\n",
      "Model: \"sequential_7\"\n",
      "_________________________________________________________________\n",
      " Layer (type)                Output Shape              Param #   \n",
      "=================================================================\n",
      " prune_low_magnitude_dense_2  (None, 128)              182914    \n",
      " 1 (PruneLowMagnitude)                                           \n",
      "                                                                 \n",
      " prune_low_magnitude_dense_2  (None, 64)               16450     \n",
      " 2 (PruneLowMagnitude)                                           \n",
      "                                                                 \n",
      " prune_low_magnitude_dense_2  (None, 2)                260       \n",
      " 3 (PruneLowMagnitude)                                           \n",
      "                                                                 \n",
      "=================================================================\n",
      "Total params: 199,624\n",
      "Trainable params: 99,906\n",
      "Non-trainable params: 99,718\n",
      "_________________________________________________________________\n",
      "None\n"
     ]
    }
   ],
   "source": [
    "print(model.summary())\n",
    "print(prunedModel.summary())"
   ]
  },
  {
   "cell_type": "code",
   "execution_count": 7,
   "id": "09d78ebc",
   "metadata": {},
   "outputs": [],
   "source": [
    "X = []\n",
    "y = []\n",
    "ValsWhole = readCSV('C:\\\\Users\\\\hazel\\\\Desktop\\\\IMU',X,y)"
   ]
  },
  {
   "cell_type": "code",
   "execution_count": 8,
   "id": "e08fe62a",
   "metadata": {
    "scrolled": false
   },
   "outputs": [
    {
     "name": "stdout",
     "output_type": "stream",
     "text": [
      "Epoch 1/20\n",
      "44/44 [==============================] - 1s 4ms/step - loss: 5.2790 - accuracy: 0.8414 - val_loss: 1.6003 - val_accuracy: 0.8867\n",
      "Epoch 2/20\n",
      "44/44 [==============================] - 0s 1ms/step - loss: 0.7395 - accuracy: 0.9436 - val_loss: 1.0752 - val_accuracy: 0.9167\n",
      "Epoch 3/20\n",
      "44/44 [==============================] - 0s 1ms/step - loss: 0.2563 - accuracy: 0.9664 - val_loss: 0.7480 - val_accuracy: 0.9333\n",
      "Epoch 4/20\n",
      "44/44 [==============================] - 0s 1ms/step - loss: 0.1196 - accuracy: 0.9757 - val_loss: 0.5809 - val_accuracy: 0.9433\n",
      "Epoch 5/20\n",
      "44/44 [==============================] - 0s 1ms/step - loss: 0.0692 - accuracy: 0.9829 - val_loss: 0.5592 - val_accuracy: 0.9533\n",
      "Epoch 6/20\n",
      "44/44 [==============================] - 0s 1ms/step - loss: 0.0699 - accuracy: 0.9843 - val_loss: 0.6983 - val_accuracy: 0.9433\n",
      "Epoch 7/20\n",
      "44/44 [==============================] - 0s 1ms/step - loss: 0.0543 - accuracy: 0.9843 - val_loss: 0.6300 - val_accuracy: 0.9467\n"
     ]
    },
    {
     "data": {
      "image/png": "[encoded data removed]",
      "text/plain": [
       "<Figure size 432x288 with 1 Axes>"
      ]
     },
     "metadata": {
      "needs_background": "light"
     },
     "output_type": "display_data"
    },
    {
     "name": "stdout",
     "output_type": "stream",
     "text": [
      "              precision    recall  f1-score   support\n",
      "\n",
      "           0       0.94      0.93      0.93       110\n",
      "           1       0.96      0.96      0.96       190\n",
      "\n",
      "    accuracy                           0.95       300\n",
      "   macro avg       0.95      0.95      0.95       300\n",
      "weighted avg       0.95      0.95      0.95       300\n",
      "\n"
     ]
    },
    {
     "name": "stderr",
     "output_type": "stream",
     "text": [
      "C:\\Users\\hazel\\anaconda3\\lib\\site-packages\\tensorflow_model_optimization\\python\\core\\sparsity\\keras\\pruning_wrapper.py:212: UserWarning: `layer.add_variable` is deprecated and will be removed in a future version. Please use `layer.add_weight` method instead.\n",
      "  mask = self.add_variable(\n",
      "C:\\Users\\hazel\\anaconda3\\lib\\site-packages\\tensorflow_model_optimization\\python\\core\\sparsity\\keras\\pruning_wrapper.py:219: UserWarning: `layer.add_variable` is deprecated and will be removed in a future version. Please use `layer.add_weight` method instead.\n",
      "  threshold = self.add_variable(\n",
      "C:\\Users\\hazel\\anaconda3\\lib\\site-packages\\tensorflow_model_optimization\\python\\core\\sparsity\\keras\\pruning_wrapper.py:233: UserWarning: `layer.add_variable` is deprecated and will be removed in a future version. Please use `layer.add_weight` method instead.\n",
      "  self.pruning_step = self.add_variable(\n"
     ]
    },
    {
     "name": "stdout",
     "output_type": "stream",
     "text": [
      "Epoch 1/25\n",
      "44/44 [==============================] - 1s 4ms/step - loss: 0.4751 - accuracy: 0.9564 - val_loss: 1.6418 - val_accuracy: 0.9067\n",
      "Epoch 2/25\n",
      "44/44 [==============================] - 0s 2ms/step - loss: 0.4811 - accuracy: 0.9636 - val_loss: 0.3178 - val_accuracy: 0.9667\n",
      "Epoch 3/25\n",
      "44/44 [==============================] - 0s 2ms/step - loss: 0.3202 - accuracy: 0.9671 - val_loss: 0.4831 - val_accuracy: 0.9533\n",
      "Epoch 4/25\n",
      "44/44 [==============================] - 0s 2ms/step - loss: 0.0945 - accuracy: 0.9771 - val_loss: 0.4507 - val_accuracy: 0.9600\n",
      "Epoch 5/25\n",
      "44/44 [==============================] - 0s 2ms/step - loss: 0.0791 - accuracy: 0.9807 - val_loss: 0.5680 - val_accuracy: 0.9567\n",
      "Epoch 6/25\n",
      "44/44 [==============================] - 0s 2ms/step - loss: 0.0958 - accuracy: 0.9821 - val_loss: 0.5270 - val_accuracy: 0.9567\n",
      "Epoch 7/25\n",
      "44/44 [==============================] - 0s 2ms/step - loss: 0.0619 - accuracy: 0.9836 - val_loss: 0.5458 - val_accuracy: 0.9600\n",
      "Epoch 8/25\n",
      "44/44 [==============================] - 0s 2ms/step - loss: 0.0547 - accuracy: 0.9843 - val_loss: 0.5048 - val_accuracy: 0.9500\n",
      "Epoch 9/25\n",
      "44/44 [==============================] - 0s 2ms/step - loss: 0.0436 - accuracy: 0.9829 - val_loss: 0.5400 - val_accuracy: 0.9500\n",
      "Epoch 10/25\n",
      "44/44 [==============================] - 0s 2ms/step - loss: 0.0492 - accuracy: 0.9871 - val_loss: 0.5076 - val_accuracy: 0.9500\n",
      "Epoch 11/25\n",
      "44/44 [==============================] - 0s 2ms/step - loss: 0.0463 - accuracy: 0.9864 - val_loss: 0.5590 - val_accuracy: 0.9667\n",
      "Epoch 12/25\n",
      "44/44 [==============================] - 0s 2ms/step - loss: 0.0693 - accuracy: 0.9793 - val_loss: 0.6337 - val_accuracy: 0.9533\n",
      "Epoch 13/25\n",
      "44/44 [==============================] - 0s 2ms/step - loss: 0.0589 - accuracy: 0.9843 - val_loss: 0.7368 - val_accuracy: 0.9567\n",
      "Epoch 14/25\n",
      "44/44 [==============================] - 0s 2ms/step - loss: 0.0775 - accuracy: 0.9800 - val_loss: 0.5872 - val_accuracy: 0.9567\n",
      "Epoch 15/25\n",
      "44/44 [==============================] - 0s 2ms/step - loss: 0.0383 - accuracy: 0.9857 - val_loss: 0.6296 - val_accuracy: 0.9500\n",
      "Epoch 16/25\n",
      "44/44 [==============================] - 0s 2ms/step - loss: 0.0333 - accuracy: 0.9843 - val_loss: 0.6266 - val_accuracy: 0.9667\n",
      "Epoch 17/25\n",
      "44/44 [==============================] - 0s 2ms/step - loss: 0.0757 - accuracy: 0.9793 - val_loss: 0.7074 - val_accuracy: 0.9500\n",
      "Epoch 18/25\n",
      "44/44 [==============================] - 0s 2ms/step - loss: 0.2020 - accuracy: 0.9750 - val_loss: 0.4541 - val_accuracy: 0.9433\n",
      "Epoch 19/25\n",
      "44/44 [==============================] - 0s 2ms/step - loss: 0.5310 - accuracy: 0.9536 - val_loss: 0.6286 - val_accuracy: 0.9433\n",
      "Epoch 20/25\n",
      "44/44 [==============================] - 0s 2ms/step - loss: 0.6461 - accuracy: 0.9614 - val_loss: 1.3448 - val_accuracy: 0.9333\n",
      "Epoch 21/25\n",
      "44/44 [==============================] - 0s 2ms/step - loss: 0.3359 - accuracy: 0.9664 - val_loss: 0.6590 - val_accuracy: 0.9500\n",
      "Epoch 22/25\n",
      "44/44 [==============================] - 0s 2ms/step - loss: 0.1772 - accuracy: 0.9764 - val_loss: 0.4428 - val_accuracy: 0.9533\n",
      "Epoch 23/25\n",
      "44/44 [==============================] - 0s 2ms/step - loss: 0.0670 - accuracy: 0.9836 - val_loss: 0.4681 - val_accuracy: 0.9500\n",
      "Epoch 24/25\n",
      "44/44 [==============================] - 0s 2ms/step - loss: 0.3306 - accuracy: 0.9721 - val_loss: 0.6514 - val_accuracy: 0.9400\n",
      "Epoch 25/25\n",
      "44/44 [==============================] - 0s 2ms/step - loss: 0.1365 - accuracy: 0.9829 - val_loss: 0.6962 - val_accuracy: 0.9433\n"
     ]
    },
    {
     "data": {
      "image/png": "[encoded data removed]",
      "text/plain": [
       "<Figure size 432x288 with 2 Axes>"
      ]
     },
     "metadata": {
      "needs_background": "light"
     },
     "output_type": "display_data"
    },
    {
     "name": "stdout",
     "output_type": "stream",
     "text": [
      "              precision    recall  f1-score   support\n",
      "\n",
      "           0       0.95      0.89      0.92       110\n",
      "           1       0.94      0.97      0.96       190\n",
      "\n",
      "    accuracy                           0.94       300\n",
      "   macro avg       0.95      0.93      0.94       300\n",
      "weighted avg       0.94      0.94      0.94       300\n",
      "\n"
     ]
    },
    {
     "data": {
      "image/png": "[encoded data removed]",
      "text/plain": [
       "<Figure size 432x288 with 2 Axes>"
      ]
     },
     "metadata": {
      "needs_background": "light"
     },
     "output_type": "display_data"
    }
   ],
   "source": [
    "historyW, modelW = mlpModel(ValsWhole[0],ValsWhole[2],ValsWhole[3],ValsWhole[5])\n",
    "mlpStats(historyW, modelW, ValsWhole[1],ValsWhole[4])\n",
    "prunedModel = mlpModelPrune(ValsWhole[0],ValsWhole[1],ValsWhole[3],ValsWhole[4],modelW)\n",
    "mlpStats(historyW, prunedModel, ValsWhole[1],ValsWhole[4])"
   ]
  },
  {
   "cell_type": "code",
   "execution_count": null,
   "id": "7877faef",
   "metadata": {},
   "outputs": [],
   "source": []
  }
 ],
 "metadata": {
  "kernelspec": {
   "display_name": "Python 3 (ipykernel)",
   "language": "python",
   "name": "python3"
  },
  "language_info": {
   "codemirror_mode": {
    "name": "ipython",
    "version": 3
   },
   "file_extension": ".py",
   "mimetype": "text/x-python",
   "name": "python",
   "nbconvert_exporter": "python",
   "pygments_lexer": "ipython3",
   "version": "3.9.7"
  }
 },
 "nbformat": 4,
 "nbformat_minor": 5
}
